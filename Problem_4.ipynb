{
 "cells": [
  {
   "cell_type": "code",
   "execution_count": 1,
   "id": "72ffe1d2",
   "metadata": {},
   "outputs": [],
   "source": [
    "import pandas as pd \n",
    "import sqlite3\n",
    "conn = sqlite3.connect('problem_4.db')\n",
    "c= conn.cursor()"
   ]
  },
  {
   "cell_type": "code",
   "execution_count": 2,
   "id": "a45db024",
   "metadata": {
    "scrolled": false
   },
   "outputs": [
    {
     "ename": "OperationalError",
     "evalue": "table locations already exists",
     "output_type": "error",
     "traceback": [
      "\u001b[1;31m---------------------------------------------------------------------------\u001b[0m",
      "\u001b[1;31mOperationalError\u001b[0m                          Traceback (most recent call last)",
      "\u001b[1;32m<ipython-input-2-dce5276a4c38>\u001b[0m in \u001b[0;36m<module>\u001b[1;34m\u001b[0m\n\u001b[0;32m      8\u001b[0m         \u001b[0mconstraint\u001b[0m              \u001b[0ml_lid_pk\u001b[0m \u001b[0mPRIMARY\u001b[0m \u001b[0mKEY\u001b[0m \u001b[1;33m(\u001b[0m\u001b[0mlocation_id\u001b[0m\u001b[1;33m)\u001b[0m\u001b[1;33m\u001b[0m\u001b[1;33m\u001b[0m\u001b[0m\n\u001b[0;32m      9\u001b[0m )'''\n\u001b[1;32m---> 10\u001b[1;33m \u001b[0mc\u001b[0m\u001b[1;33m.\u001b[0m\u001b[0mexecute\u001b[0m\u001b[1;33m(\u001b[0m\u001b[0mcommand1\u001b[0m\u001b[1;33m)\u001b[0m\u001b[1;33m\u001b[0m\u001b[1;33m\u001b[0m\u001b[0m\n\u001b[0m",
      "\u001b[1;31mOperationalError\u001b[0m: table locations already exists"
     ]
    }
   ],
   "source": [
    "command1='''CREATE TABLE locations(\n",
    "\tlocation_id  \t\tINT(3),\n",
    "\tstreet_address\t\tVARCHAR(50) unique not null,\n",
    "\tpostal_code\t\tVARCHAR(10) not null,\n",
    "\tcity\t\t\tVARCHAR(50) not null,\n",
    "\tstate_province\t\tVARCHAR(50) not null,\n",
    "\tcountry\t\t\tVARCHAR(50) not null,\n",
    "\tconstraint \t\tl_lid_pk PRIMARY KEY (location_id)\n",
    ")'''\n",
    "c.execute(command1)"
   ]
  },
  {
   "cell_type": "code",
   "execution_count": 3,
   "id": "7fa5bdaa",
   "metadata": {},
   "outputs": [
    {
     "ename": "OperationalError",
     "evalue": "table departments already exists",
     "output_type": "error",
     "traceback": [
      "\u001b[1;31m---------------------------------------------------------------------------\u001b[0m",
      "\u001b[1;31mOperationalError\u001b[0m                          Traceback (most recent call last)",
      "\u001b[1;32m<ipython-input-3-e526ce78ca90>\u001b[0m in \u001b[0;36m<module>\u001b[1;34m\u001b[0m\n\u001b[0;32m      7\u001b[0m         \u001b[0mreferences\u001b[0m              \u001b[0mlocations\u001b[0m\u001b[1;33m(\u001b[0m\u001b[0mlocation_id\u001b[0m\u001b[1;33m)\u001b[0m\u001b[1;33m\u001b[0m\u001b[1;33m\u001b[0m\u001b[0m\n\u001b[0;32m      8\u001b[0m )'''\n\u001b[1;32m----> 9\u001b[1;33m \u001b[0mc\u001b[0m\u001b[1;33m.\u001b[0m\u001b[0mexecute\u001b[0m\u001b[1;33m(\u001b[0m\u001b[0mcommand2\u001b[0m\u001b[1;33m)\u001b[0m\u001b[1;33m\u001b[0m\u001b[1;33m\u001b[0m\u001b[0m\n\u001b[0m",
      "\u001b[1;31mOperationalError\u001b[0m: table departments already exists"
     ]
    }
   ],
   "source": [
    "command2='''CREATE TABLE departments(\n",
    "\tdepartment_id \t\tINT(4),\n",
    "\tdepartment_name\tVARCHAR(20) unique not null,\n",
    "\tlocation_id  \t     \t  INT(3) not null,\n",
    "\tconstraint \t\td_did_pk PRIMARY KEY (department_id),\n",
    "\tconstraint \t\td_lid_fk FOREIGN KEY (location_id)\n",
    "\treferences \t\tlocations(location_id)\n",
    ")'''\n",
    "c.execute(command2)"
   ]
  },
  {
   "cell_type": "code",
   "execution_count": 4,
   "id": "3e42c446",
   "metadata": {},
   "outputs": [
    {
     "data": {
      "text/plain": [
       "<sqlite3.Cursor at 0x1638588d5e0>"
      ]
     },
     "execution_count": 4,
     "metadata": {},
     "output_type": "execute_result"
    }
   ],
   "source": [
    "c.execute(\"INSERT INTO locations (location_id, street_address, postal_code, city, state_province, country)VALUES (100, '2 Nice Road', 'N2 7TH', 'London', 'Greater London', 'UK'),(200, '23 Pretty Road', 'BS1 8FD', 'Bristol', 'Bristol County', 'UK'),(300, '26 Great Street', 'BN1 4BF', 'Brigthon', 'Sussex', 'UK'),(400, '143 Lovely Road', 'CB1 2NV', 'Cambridge', 'Cambridgeshire', 'UK')\")"
   ]
  },
  {
   "cell_type": "code",
   "execution_count": 6,
   "id": "eef41736",
   "metadata": {},
   "outputs": [
    {
     "data": {
      "text/plain": [
       "<sqlite3.Cursor at 0x1638588d5e0>"
      ]
     },
     "execution_count": 6,
     "metadata": {},
     "output_type": "execute_result"
    }
   ],
   "source": [
    "c.execute(\"INSERT INTO departments (department_id, department_name, location_id) VALUES(10, 'IT', 100),(20, 'Operations', 200),(30, 'Sales', 300),(40, 'Marketing', 200),(50, 'Management','null')\")"
   ]
  },
  {
   "cell_type": "code",
   "execution_count": 7,
   "id": "94fc91bc",
   "metadata": {},
   "outputs": [
    {
     "name": "stdout",
     "output_type": "stream",
     "text": [
      "(100, '2 Nice Road', 'N2 7TH', 'London', 'Greater London', 'UK')\n",
      "(200, '23 Pretty Road', 'BS1 8FD', 'Bristol', 'Bristol County', 'UK')\n",
      "(300, '26 Great Street', 'BN1 4BF', 'Brigthon', 'Sussex', 'UK')\n",
      "(400, '143 Lovely Road', 'CB1 2NV', 'Cambridge', 'Cambridgeshire', 'UK')\n"
     ]
    }
   ],
   "source": [
    "c.execute('SELECT * FROM locations')\n",
    "for y in c:\n",
    "    print (y)"
   ]
  },
  {
   "cell_type": "code",
   "execution_count": 11,
   "id": "115dcc0d",
   "metadata": {},
   "outputs": [
    {
     "name": "stdout",
     "output_type": "stream",
     "text": [
      "(10, 'IT', 100)\n",
      "(20, 'Operations', 200)\n",
      "(30, 'Sales', 300)\n",
      "(40, 'Marketing', 200)\n",
      "(50, 'Management', 'null')\n"
     ]
    }
   ],
   "source": [
    "c.execute('SELECT * FROM departments')\n",
    "for x in c:\n",
    "    print (x)"
   ]
  },
  {
   "cell_type": "code",
   "execution_count": null,
   "id": "866721a5",
   "metadata": {},
   "outputs": [],
   "source": []
  }
 ],
 "metadata": {
  "kernelspec": {
   "display_name": "Python 3",
   "language": "python",
   "name": "python3"
  },
  "language_info": {
   "codemirror_mode": {
    "name": "ipython",
    "version": 3
   },
   "file_extension": ".py",
   "mimetype": "text/x-python",
   "name": "python",
   "nbconvert_exporter": "python",
   "pygments_lexer": "ipython3",
   "version": "3.8.8"
  }
 },
 "nbformat": 4,
 "nbformat_minor": 5
}
