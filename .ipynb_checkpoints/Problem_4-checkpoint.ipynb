{
 "cells": [
  {
   "cell_type": "code",
   "execution_count": 7,
   "id": "2977d22d",
   "metadata": {},
   "outputs": [],
   "source": [
    "import sqlite3\n",
    "conn = sqlite3.connect('problem4.db')\n",
    "cursor = conn.cursor()"
   ]
  },
  {
   "cell_type": "code",
   "execution_count": 8,
   "id": "8be8f54a",
   "metadata": {},
   "outputs": [],
   "source": [
    "sql='''CREATE TABLE locations\n",
    "(\n",
    "\tlocation_id  \t\tINT(3),\n",
    "\tstreet_address\t\tVARCHAR(50) unique not null,\n",
    "\tpostal_code\t\tVARCHAR(10) not null,\n",
    "\tcity\t\t\tVARCHAR(50) not null,\n",
    "\tstate_province\t\tVARCHAR(50) not null,\n",
    "\tcountry\t\t\tVARCHAR(50) not null,\n",
    "\tconstraint \t\tl_lid_pk PRIMARY KEY (location_id)\n",
    ");\n",
    "'''"
   ]
  },
  {
   "cell_type": "code",
   "execution_count": null,
   "id": "fd88f877",
   "metadata": {},
   "outputs": [],
   "source": []
  },
  {
   "cell_type": "code",
   "execution_count": null,
   "id": "db1fc4fc",
   "metadata": {
    "collapsed": true
   },
   "outputs": [],
   "source": []
  }
 ],
 "metadata": {
  "kernelspec": {
   "display_name": "Python 3",
   "language": "python",
   "name": "python3"
  },
  "language_info": {
   "codemirror_mode": {
    "name": "ipython",
    "version": 3
   },
   "file_extension": ".py",
   "mimetype": "text/x-python",
   "name": "python",
   "nbconvert_exporter": "python",
   "pygments_lexer": "ipython3",
   "version": "3.8.8"
  }
 },
 "nbformat": 4,
 "nbformat_minor": 5
}
