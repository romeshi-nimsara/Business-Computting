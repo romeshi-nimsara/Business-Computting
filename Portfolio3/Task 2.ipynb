{
 "cells": [
  {
   "cell_type": "code",
   "execution_count": 1,
   "id": "d34a599b",
   "metadata": {},
   "outputs": [],
   "source": [
    "import packages.DBModule as db3"
   ]
  },
  {
   "cell_type": "code",
   "execution_count": 2,
   "id": "00bb580e",
   "metadata": {},
   "outputs": [],
   "source": [
    "#implementing create function\n",
    "db3.create ('my_db','port3')"
   ]
  },
  {
   "cell_type": "code",
   "execution_count": 3,
   "id": "d326e73c",
   "metadata": {},
   "outputs": [],
   "source": [
    "#implementing read function\n",
    "df = db3.read('data_files','saleries')"
   ]
  },
  {
   "cell_type": "code",
   "execution_count": 4,
   "id": "627efb03",
   "metadata": {},
   "outputs": [
    {
     "name": "stdout",
     "output_type": "stream",
     "text": [
      "Table 'table' already exists.\n"
     ]
    }
   ],
   "source": [
    "#implementing write function\n",
    "try:\n",
    "    db3.write (df,'table')\n",
    "    \n",
    "except Exception as e :\n",
    "    print ( e )"
   ]
  },
  {
   "cell_type": "code",
   "execution_count": null,
   "id": "d4524c82",
   "metadata": {},
   "outputs": [],
   "source": []
  }
 ],
 "metadata": {
  "kernelspec": {
   "display_name": "Python 3",
   "language": "python",
   "name": "python3"
  },
  "language_info": {
   "codemirror_mode": {
    "name": "ipython",
    "version": 3
   },
   "file_extension": ".py",
   "mimetype": "text/x-python",
   "name": "python",
   "nbconvert_exporter": "python",
   "pygments_lexer": "ipython3",
   "version": "3.8.8"
  }
 },
 "nbformat": 4,
 "nbformat_minor": 5
}
